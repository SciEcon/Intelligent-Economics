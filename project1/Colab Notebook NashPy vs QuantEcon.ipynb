{
  "nbformat": 4,
  "nbformat_minor": 0,
  "metadata": {
    "colab": {
      "name": "Nashpy  & QuantEcon.ipynb",
      "provenance": [],
      "collapsed_sections": []
    },
    "kernelspec": {
      "name": "python3",
      "display_name": "Python 3"
    },
    "language_info": {
      "name": "python"
    }
  },
  "cells": [
    {
      "cell_type": "markdown",
      "metadata": {
        "id": "OjOGY3gD4unW"
      },
      "source": [
        "<font size = 6>Solving NE using Nashpy and QuantEcon</font>"
      ]
    },
    {
      "cell_type": "code",
      "metadata": {
        "id": "cC01j2FmwYHd"
      },
      "source": [
        "# install the tools you will use later\n",
        "!pip install --upgrade setuptools\n",
        "!pip install --upgrade pip\n",
        "!pip install nashpy\n",
        "!pip install quantecon"
      ],
      "execution_count": null,
      "outputs": []
    },
    {
      "cell_type": "markdown",
      "metadata": {
        "id": "9n4oAve76HVv"
      },
      "source": [
        "<font face = Times size=4>\n",
        "\n",
        "***Nashpy and QuantEcon:***\n",
        "\n",
        "Previously, we have used Nashpy many times to solve for the Nash equillibrium.Nashpy is a powerful Python library which is widely used in solving game theory problems. \n",
        "\n",
        "Now, we are going to introduce a new Python package called QuantEcon. QuantEcon is a NumFOCUS fiscally sponsored project dedicated to development and documentation of modern open source computational tools for economics, econometrics, and decision making. They provide a tool called QuanEcon.py which enables us to access to the service they provide easily with Python code.\n",
        "\n",
        "In the following part, we will review the usage of Nashpy and then give instructions of how to use QuantEcon for solving game theory problems.\n",
        "    \n",
        "</font>"
      ]
    },
    {
      "cell_type": "markdown",
      "metadata": {
        "id": "Lz9SR0S98o9z"
      },
      "source": [
        "---\n",
        "\n",
        "<font face = Times size = 4>\n",
        "    \n",
        "***Example - Battle of sex:***\n",
        "\n",
        "</font>\n",
        "\n",
        "<div align=\"center\">\n",
        "<img src=\"data:image/png;base64,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\" width=\"40%\"/>\n",
        "    </div>\n",
        "<font face = Times size = 3>\n",
        "    <center> Figure1: Battle of sex </center>\n",
        "    </font>\n",
        "\n",
        "\n"
      ]
    },
    {
      "cell_type": "markdown",
      "metadata": {
        "id": "q6NMoi759UN4"
      },
      "source": [
        "<font face = Times size = 4>\n",
        "    \n",
        "***Question:*** \n",
        "\n",
        "Consider that two players, a man (row player) and a woman (column player), are deciding on how to spend their evening. They both consider two possibilityies: boxing or shopping. The man prefers boxing while the woman prefers shipping. However, they both would like to spend the evening together rather than separately. Here we express the players’ preferences again via payoffs (benefits) as **Figure 1** above.\n",
        "\n",
        "\n",
        "**Answer the follwing questions:**\n",
        "1. How many pure strategy equilibrium?\n",
        "\n",
        "2. How many mixed strategy equilibrium?\n",
        "\n",
        "3. In each equilibrium, how exactly each player play?\n",
        "\n",
        "\n",
        "</font>"
      ]
    },
    {
      "cell_type": "markdown",
      "metadata": {
        "id": "btcuJNqb5E7v"
      },
      "source": [
        "<font face = Times size=4>\n",
        "\n",
        "***Using Nashpy:***\n",
        "    \n",
        "</font>"
      ]
    },
    {
      "cell_type": "code",
      "metadata": {
        "id": "CbjI0v8f4FeH"
      },
      "source": [
        "import nashpy as nash\n",
        "import numpy as np\n",
        "\n",
        "# Creater the game with the payoff matrix\n",
        "\n",
        "A = np.array([[2, 0],\n",
        "              [0, 1]]) # A is the row player (in this case, prisoner)\n",
        "\n",
        "B = np.array([[1, 0],\n",
        "              [0, 2]]) # B is the column player"
      ],
      "execution_count": null,
      "outputs": []
    },
    {
      "cell_type": "code",
      "metadata": {
        "colab": {
          "base_uri": "https://localhost:8080/"
        },
        "id": "SurUp9Rm4URh",
        "outputId": "58c116f8-8a71-410f-e054-76d30afbb780"
      },
      "source": [
        "# Form the game\n",
        "game2 = nash.Game(A,B)\n",
        "game2"
      ],
      "execution_count": null,
      "outputs": [
        {
          "output_type": "execute_result",
          "data": {
            "text/plain": [
              "Bi matrix game with payoff matrices:\n",
              "\n",
              "Row player:\n",
              "[[2 0]\n",
              " [0 1]]\n",
              "\n",
              "Column player:\n",
              "[[1 0]\n",
              " [0 2]]"
            ]
          },
          "metadata": {},
          "execution_count": 3
        }
      ]
    },
    {
      "cell_type": "code",
      "metadata": {
        "colab": {
          "base_uri": "https://localhost:8080/"
        },
        "id": "3eauV8jY9nL3",
        "outputId": "3ea6d93f-0164-4fe4-8f07-7db97727a050"
      },
      "source": [
        "# Find the Nash Equilibrium with Support Enumeration\n",
        "equilibria = game2.support_enumeration()\n",
        "for eq in equilibria:\n",
        "    print(eq)"
      ],
      "execution_count": null,
      "outputs": [
        {
          "output_type": "stream",
          "name": "stdout",
          "text": [
            "(array([1., 0.]), array([1., 0.]))\n",
            "(array([0., 1.]), array([0., 1.]))\n",
            "(array([0.66666667, 0.33333333]), array([0.33333333, 0.66666667]))\n"
          ]
        }
      ]
    },
    {
      "cell_type": "markdown",
      "metadata": {
        "id": "qLjD07ONAEuN"
      },
      "source": [
        "<font face = Times size = 4>\n",
        "\n",
        "***Interpretation of the results:*** \n",
        "    \n",
        "1. Two pure strategy equilibrium.\n",
        "2. One mixed strategy equilibrium.\n",
        "3. In the first pure strategy, both of them will choose boxing, while in the second pure strategy, both the players choose shopping. In the mixed strategy, the man choose boxing with the probability = 66.67% and the shopping with probability = 33.33%. The woman choose boxing with P = 33.33% and shopping with P = 66.67%\n",
        "    \n",
        "</font>"
      ]
    },
    {
      "cell_type": "markdown",
      "metadata": {
        "id": "LzIBr9IYAbxL"
      },
      "source": [
        "<font face = Times size = 4>\n",
        "\n",
        "***Using QuantEcon:*** \n",
        "    \n",
        "</font>"
      ]
    },
    {
      "cell_type": "markdown",
      "metadata": {
        "id": "odtHkHthdE4r"
      },
      "source": [
        "<font face = Times size = 4>\n",
        "\n",
        "***Form the game:*** In the following part, three ways to form a game will be shown.\n",
        "    \n",
        "</font>"
      ]
    },
    {
      "cell_type": "code",
      "metadata": {
        "colab": {
          "base_uri": "https://localhost:8080/"
        },
        "id": "WR0w3F95Ah_z",
        "outputId": "278b071b-beed-42f6-daa9-1ccdb6b903b8"
      },
      "source": [
        "# import the QuantEcon package\n",
        "import quantecon.game_theory as gt\n",
        "import numpy as np\n",
        "\n",
        "# The first way to form the game: by the payoff matrix\n",
        "prisoner_dilemma_matrix = np.array([[(2, 1), (0, 0)],\n",
        "                                    [(0, 0), (1, 2)]])\n",
        "\n",
        "g_PD = gt.NormalFormGame(prisoner_dilemma_matrix)\n",
        "print(g_PD)"
      ],
      "execution_count": null,
      "outputs": [
        {
          "output_type": "stream",
          "name": "stderr",
          "text": [
            "/usr/local/lib/python3.7/dist-packages/numba/np/ufunc/parallel.py:363: NumbaWarning: The TBB threading layer requires TBB version 2019.5 or later i.e., TBB_INTERFACE_VERSION >= 11005. Found TBB_INTERFACE_VERSION = 9107. The TBB threading layer is disabled.\n",
            "  warnings.warn(problem)\n"
          ]
        },
        {
          "output_type": "stream",
          "name": "stdout",
          "text": [
            "2-player NormalFormGame with payoff profile array:\n",
            "[[[2, 1],  [0, 0]],\n",
            " [[0, 0],  [1, 2]]]\n"
          ]
        }
      ]
    },
    {
      "cell_type": "code",
      "metadata": {
        "colab": {
          "base_uri": "https://localhost:8080/"
        },
        "id": "GCgxlULFVz4U",
        "outputId": "4c8408b2-54ad-43e9-f44d-ef12a4a07fa2"
      },
      "source": [
        "# The second way to form the game: by players\n",
        "player0 = gt.Player([[2, 0],\n",
        "                     [0, 1]])\n",
        "\n",
        "# Please pay attention to the difference here!!!\n",
        "player1 = gt.Player([[1, 0],\n",
        "                     [0, 2]])\n",
        "\n",
        "# Pass in the two players\n",
        "g_PD = gt.NormalFormGame((player0, player1))\n",
        "print(g_PD)"
      ],
      "execution_count": null,
      "outputs": [
        {
          "output_type": "stream",
          "name": "stdout",
          "text": [
            "2-player NormalFormGame with payoff profile array:\n",
            "[[[2, 1],  [0, 0]],\n",
            " [[0, 0],  [1, 2]]]\n"
          ]
        }
      ]
    },
    {
      "cell_type": "code",
      "metadata": {
        "colab": {
          "base_uri": "https://localhost:8080/"
        },
        "id": "h7aELn1xXfU1",
        "outputId": "d5b0baf3-bd45-41bb-bbfb-a42d4cf91bd6"
      },
      "source": [
        "# the third way to form the game: by actions (Not recommanded)\n",
        "\n",
        "# 2 players, each of whom has 2 actions\n",
        "g_PD = gt.NormalFormGame((2, 2))\n",
        "g_PD[0, 0] = 2, 1\n",
        "g_PD[0, 1] = 0, 0\n",
        "g_PD[1, 0] = 0, 0\n",
        "g_PD[1, 1] = 1, 2\n",
        "\n",
        "print(g_PD)"
      ],
      "execution_count": null,
      "outputs": [
        {
          "output_type": "stream",
          "name": "stdout",
          "text": [
            "2-player NormalFormGame with payoff profile array:\n",
            "[[[2., 1.],  [0., 0.]],\n",
            " [[0., 0.],  [1., 2.]]]\n"
          ]
        }
      ]
    },
    {
      "cell_type": "markdown",
      "metadata": {
        "id": "IuAg6aS0Zx-A"
      },
      "source": [
        "<font face = Times size = 4>\n",
        "\n",
        "***Short Summay:*** \n",
        "    \n",
        "There are three ways to form a game using QuantEcon. Personally I will recommand you to use the first way (directly pass in the payoff matrix). This is the most intuitive way. Also, if you used to use Nashpy, the logic of forming a game by Nashpy and by QuantEcon are different, please pay attention to that.\n",
        "\n",
        "</font>"
      ]
    },
    {
      "cell_type": "markdown",
      "metadata": {
        "id": "E3pxLwlediGQ"
      },
      "source": [
        "<font face = Times size = 4>\n",
        "\n",
        "***Find the Nash equilibrium:*** \n",
        "    \n",
        "In the following part, we will introduce three simple function to find the Nash equilibrium.\n",
        "\n",
        "    \n",
        "</font>"
      ]
    },
    {
      "cell_type": "code",
      "metadata": {
        "colab": {
          "base_uri": "https://localhost:8080/"
        },
        "id": "-Z9Evvr2bm1r",
        "outputId": "f7cd9150-ddca-4063-b943-c15cdc596d59"
      },
      "source": [
        "# Finding the Nash equilibrium: pure_nash_brute\n",
        "\n",
        "NE = gt.pure_nash_brute(g_PD)\n",
        "print(NE)"
      ],
      "execution_count": null,
      "outputs": [
        {
          "output_type": "stream",
          "name": "stdout",
          "text": [
            "[(0, 0), (1, 1)]\n"
          ]
        }
      ]
    },
    {
      "cell_type": "code",
      "metadata": {
        "colab": {
          "base_uri": "https://localhost:8080/"
        },
        "id": "39DwVPvIfMfU",
        "outputId": "682f7f9c-c369-4578-e215-8052903a1331"
      },
      "source": [
        "# Finding the Nash equilibrium: support_enumeration\n",
        "\n",
        "NE = gt.support_enumeration(g_PD)\n",
        "print(NE)"
      ],
      "execution_count": null,
      "outputs": [
        {
          "output_type": "stream",
          "name": "stdout",
          "text": [
            "[(array([1., 0.]), array([1., 0.])), (array([0., 1.]), array([0., 1.])), (array([0.66666667, 0.33333333]), array([0.33333333, 0.66666667]))]\n"
          ]
        }
      ]
    },
    {
      "cell_type": "code",
      "metadata": {
        "colab": {
          "base_uri": "https://localhost:8080/"
        },
        "id": "KU_Qfb0xfWZV",
        "outputId": "fe7614e0-1818-457e-b555-e3957a6e886e"
      },
      "source": [
        "NE = gt.vertex_enumeration(g_PD)\n",
        "print(NE)"
      ],
      "execution_count": null,
      "outputs": [
        {
          "output_type": "stream",
          "name": "stdout",
          "text": [
            "[(array([1., 0.]), array([1., 0.])), (array([0., 1.]), array([0., 1.])), (array([0.66666667, 0.33333333]), array([0.33333333, 0.66666667]))]\n"
          ]
        }
      ]
    },
    {
      "cell_type": "markdown",
      "metadata": {
        "id": "wIGuilEQka-A"
      },
      "source": [
        "<font face = Times size = 4>\n",
        "\n",
        "***Short Summay:*** \n",
        "    \n",
        "We introduced three way to solve for the Nash equilibrium. Pure_nash_brute is able to return the pure strategy NE. Support_enumeration and vertex_enumeration both computes mixed-action Nash equilibria of a 2-player normal form game by enumeration and matching of vertices of the best response polytopes, but the latter seems to run faster than the former.\n",
        "\n",
        "</font>"
      ]
    }
  ]
}